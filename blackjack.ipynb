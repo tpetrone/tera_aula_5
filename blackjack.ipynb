{
 "cells": [
  {
   "cell_type": "markdown",
   "metadata": {},
   "source": [
    "# Geral\n",
    "\n",
    "##### Repositório:\n",
    "\n",
    "https: https://github.com/tpetrone/tera_aula_4.git\n",
    "\n",
    "ssh: git@github.com:tpetrone/tera_aula_4.git\n",
    "\n",
    "##### Git commands:\n",
    "`git clone url`\n",
    "\n",
    "`cd tera_aula_4`\n",
    "\n",
    "`jupyter notebook`\n"
   ]
  },
  {
   "cell_type": "markdown",
   "metadata": {
    "collapsed": true
   },
   "source": [
    "# Recursos adicionais:"
   ]
  },
  {
   "cell_type": "markdown",
   "metadata": {},
   "source": [
    "### `global` keyword"
   ]
  },
  {
   "cell_type": "code",
   "execution_count": null,
   "metadata": {
    "collapsed": true
   },
   "outputs": [],
   "source": []
  },
  {
   "cell_type": "markdown",
   "metadata": {},
   "source": [
    "### .pop()"
   ]
  },
  {
   "cell_type": "code",
   "execution_count": null,
   "metadata": {
    "collapsed": true
   },
   "outputs": [],
   "source": []
  },
  {
   "cell_type": "markdown",
   "metadata": {},
   "source": [
    "### input()"
   ]
  },
  {
   "cell_type": "code",
   "execution_count": null,
   "metadata": {
    "collapsed": true
   },
   "outputs": [],
   "source": []
  },
  {
   "cell_type": "markdown",
   "metadata": {},
   "source": [
    "### Pair Programming\n",
    "\n",
    "https://en.wikipedia.org/wiki/Pair_programming"
   ]
  },
  {
   "cell_type": "markdown",
   "metadata": {},
   "source": [
    "# ---------------------------------------------------------------------"
   ]
  },
  {
   "cell_type": "markdown",
   "metadata": {},
   "source": [
    "# BlackJack ou 21\n",
    "\n",
    "o Ás vale apenas 1\n",
    "\n",
    "Um jogador contra um dealer\n",
    "\n",
    "Classes Deck, Hand, Card\n",
    "\n",
    "Uma única classe para a \"mão\" do jogador e do Dealer\n",
    "\n",
    "O dealer só mostra as cartas se o jogador decidir parar\n",
    "\n",
    "O dealer pára se sua mão for maior igual a 17"
   ]
  },
  {
   "cell_type": "markdown",
   "metadata": {},
   "source": [
    "# ---------------------------------------------------------------------"
   ]
  },
  {
   "cell_type": "markdown",
   "metadata": {},
   "source": [
    "## Definições globais e imports"
   ]
  },
  {
   "cell_type": "code",
   "execution_count": null,
   "metadata": {
    "collapsed": true
   },
   "outputs": [],
   "source": [
    "# Imports\n",
    "\n",
    "\n",
    "'''Variáveis globais'''\n",
    "# Variável booleana para indicar status do j\n",
    "\n",
    "# Variável inteira para indicar a quantidade de fichas iniciais\n",
    "\n",
    "# Variável inteira para indicar o valor da aposta inicial\n",
    "\n",
    "# Variável string com instruções para jogar ou sair\n",
    "\n",
    "# Variável para apresentar o resultado do jogo\n"
   ]
  },
  {
   "cell_type": "code",
   "execution_count": null,
   "metadata": {
    "collapsed": true
   },
   "outputs": [],
   "source": [
    "# Lista de naipes de um baralho\n",
    "\n",
    "# Lista de números/figuras de um baralho\n",
    "\n",
    "# Dicionário com a correspondência entre números/figuras e seus valores "
   ]
  },
  {
   "cell_type": "markdown",
   "metadata": {},
   "source": [
    "# ---------------------------------------------------------------------"
   ]
  },
  {
   "cell_type": "markdown",
   "metadata": {},
   "source": [
    "# Classes"
   ]
  },
  {
   "cell_type": "markdown",
   "metadata": {},
   "source": [
    "## Classe `Card`"
   ]
  },
  {
   "cell_type": "code",
   "execution_count": null,
   "metadata": {
    "collapsed": true
   },
   "outputs": [],
   "source": [
    "class Card:\n",
    "    \n",
    "    def __init__(self,suit,rank):\n",
    "        '''Construtor com 2 atributos (suite e rank) recebidos no momento da instanciação'''\n",
    "    \n",
    "    def __str__(self):\n",
    "        '''Definir como a carta será exibida ao executar um print(card)'''\n",
    "    pass"
   ]
  },
  {
   "cell_type": "markdown",
   "metadata": {},
   "source": [
    "## Classe `Deck`"
   ]
  },
  {
   "cell_type": "code",
   "execution_count": null,
   "metadata": {
    "collapsed": true
   },
   "outputs": [],
   "source": [
    "class Deck:\n",
    "    \n",
    "    def __init__(self):\n",
    "        '''Construtor com dois for loops aninhados para criar uma lista de \n",
    "        instâncias da classe Card que representem um baralho completo e guardá-lo no atributo deck\n",
    "        dica: append()'''\n",
    "        pass\n",
    "    \n",
    "    def shuffle(self):\n",
    "        '''método para embaralhar o deck \n",
    "        dica: random.shuffle()'''\n",
    "        pass\n",
    "    \n",
    "    def deal(self):\n",
    "        '''método para retirar uma carta do baralho\n",
    "        dica: use .pop()'''\n",
    "        pass\n",
    "    \n",
    "    def __str__(self):\n",
    "        ''' método para definir como o baralho será exibido'''\n",
    "    \n",
    "    pass"
   ]
  },
  {
   "cell_type": "markdown",
   "metadata": {},
   "source": [
    "## Classe `Hand`"
   ]
  },
  {
   "cell_type": "code",
   "execution_count": null,
   "metadata": {
    "collapsed": true
   },
   "outputs": [],
   "source": [
    "class Hand:\n",
    "    \n",
    "    def __init__(self):\n",
    "        '''Construtor com 2 atributos: \n",
    "        uma list com as cartas e a somatória do valor delas \n",
    "        ambos inicialmente zerados'''\n",
    "        \n",
    "        \n",
    "    def card_add(self,card):\n",
    "        '''método para adicionar uma carta à \"mão\". \n",
    "        Recebe um parâmetro do tipo Card e atualiza\n",
    "        a lista de cartas e o valor total'''\n",
    "    \n",
    "    def __str__(self):\n",
    "        ''' método para definir como a \"mão\" será exibida'''\n",
    "\n",
    "    def draw(self,hidden):\n",
    "        '''\n",
    "        método para mostrar a \"mão\" tanto do jogador quanto do dealer\n",
    "        dica: use um parâmetro booleano para indicar de quem é a \"mão\"\n",
    "        lembre-se que a primeira carta do dealer deve ficar escondida\n",
    "        '''            \n",
    "    pass"
   ]
  },
  {
   "cell_type": "markdown",
   "metadata": {},
   "source": [
    "# ---------------------------------------------------------------------"
   ]
  },
  {
   "cell_type": "markdown",
   "metadata": {},
   "source": [
    "# Funções"
   ]
  },
  {
   "cell_type": "markdown",
   "metadata": {},
   "source": [
    "## fazer_aposta()"
   ]
  },
  {
   "cell_type": "code",
   "execution_count": null,
   "metadata": {
    "collapsed": true
   },
   "outputs": [],
   "source": [
    "def fazer_aposta():\n",
    "    ''' Função para definir a aposta '''\n",
    "    \n",
    "    # Declaração de variáveis\n",
    "    \n",
    "    # Mensagem que pergunta o valor da aposta\n",
    "    \n",
    "    # While loop até uma aposta válida\n",
    "    \n",
    "        # if para checar se a aposta é válida\n",
    "    \n",
    "    pass"
   ]
  },
  {
   "cell_type": "markdown",
   "metadata": {},
   "source": [
    "## Função para iniciar o jogo"
   ]
  },
  {
   "cell_type": "code",
   "execution_count": null,
   "metadata": {
    "collapsed": true
   },
   "outputs": [],
   "source": [
    "def iniciar_jogo():\n",
    "    '''Função para iniciar o jogo'''\n",
    "\n",
    "    # Declaração de variáveis globais\n",
    "    \n",
    "    # Criação de um deck\n",
    "    \n",
    "    # Embaralhamento\n",
    "    \n",
    "    # Definição da aposta\n",
    "    \n",
    "    # Criação das mãos (jogador e dealer)\n",
    "    \n",
    "    # Distribuição das duas primeiras cartas jogador\n",
    "    \n",
    "    # Distribuição das duas primeiras cartas dealer\n",
    "    \n",
    "    # Atribuição de mensagem de continuar ou parar\n",
    "    \n",
    "    # Atualizar o status do jogo\n",
    "    \n",
    "    # Ir para o próximo passo\n",
    "    \n",
    "    pass"
   ]
  },
  {
   "cell_type": "markdown",
   "metadata": {},
   "source": [
    "## Função para pedir uma carta"
   ]
  },
  {
   "cell_type": "code",
   "execution_count": null,
   "metadata": {
    "collapsed": true
   },
   "outputs": [],
   "source": [
    "def pedir_carta():\n",
    "    '''Função para pedir a próxima carta'próxima carta'''\n",
    "\n",
    "    # Decararação das variáveis\n",
    "    \n",
    "    # Se o status do jogo estiver ativo, abra uma carta\n",
    "        \n",
    "        # Se o jogador não tiver estourado acrescente uma carta à sua \"mão\" \n",
    "\n",
    "        # Se o jogador tiver estourado\n",
    "            \n",
    "            # Atribuição de mensagem de final do jogo\n",
    "            \n",
    "            # Atualização da quantidade total de fichas\n",
    "            \n",
    "            #Atualização do status do jogo\n",
    "    \n",
    "    # Senão encerre o jogo\n",
    "    \n",
    "    # Próximo passo\n",
    "    \n",
    "    pass"
   ]
  },
  {
   "cell_type": "markdown",
   "metadata": {},
   "source": [
    "## Função para parar"
   ]
  },
  {
   "cell_type": "code",
   "execution_count": null,
   "metadata": {
    "collapsed": true
   },
   "outputs": [],
   "source": [
    "def parar():\n",
    "    \n",
    "    # Declaração de variáveis globais\n",
    "        \n",
    "    # Acrescenta uma carta à \"mão\" do dealer enquanto ele tiver menos que 17\n",
    "\n",
    "    # Possíveis cenários\n",
    "    # Dealer estoura    \n",
    "        \n",
    "    # Player ganha\n",
    "\n",
    "    # Empate\n",
    "\n",
    "    # Dealer ganha\n",
    "    \n",
    "    # Atualiza o status do jogo\n",
    "    \n",
    "    # Próximo passo\n",
    "    \n",
    "    pass\n"
   ]
  },
  {
   "cell_type": "markdown",
   "metadata": {},
   "source": [
    "# Loop principal do jogo"
   ]
  },
  {
   "cell_type": "code",
   "execution_count": null,
   "metadata": {
    "collapsed": true
   },
   "outputs": [],
   "source": [
    "def loop_principal():\n",
    "    \n",
    "    #Mostrar a mão do jogador\n",
    "    \n",
    "    #Mostrar a mão do dealer\n",
    "    \n",
    "    # Se o jogo houver terminado\n",
    "\n",
    "        # Apresente o total de pontos do Dealer\n",
    "\n",
    "        # Apresente o total de fichas\n",
    "\n",
    "    # Se não...\n",
    "    \n",
    "        # Avise que o Dealer possui uma carta escondida\n",
    "        \n",
    "    # Apresenta o resultado.\n",
    "    \n",
    "    # Leia a ação do Jogador\n",
    "    \n",
    "    pass\n",
    "    "
   ]
  },
  {
   "cell_type": "markdown",
   "metadata": {},
   "source": [
    "## Função para sair do jogo"
   ]
  },
  {
   "cell_type": "code",
   "execution_count": null,
   "metadata": {
    "collapsed": true
   },
   "outputs": [],
   "source": [
    "def encerrar():\n",
    "    '''Função para encerrar o jogo'''\n",
    "    pass"
   ]
  },
  {
   "cell_type": "markdown",
   "metadata": {},
   "source": [
    "## Função para ler a ação"
   ]
  },
  {
   "cell_type": "code",
   "execution_count": null,
   "metadata": {
    "collapsed": true
   },
   "outputs": [],
   "source": [
    "def ler_acao():\n",
    "    '''Função para ler a ação do Jogador'''\n",
    "    \n",
    "    # Peça para o jogador fazer o input\n",
    "    \n",
    "    # Se 'h', peça uma carta\n",
    "    \n",
    "    # Se 's', peça para parar\n",
    "\n",
    "    # Se 'd', reinicie o jogo\n",
    "\n",
    "    # Se 'q', encerre o jogo\n",
    "\n",
    "    # Caso contrário exiba uma mensagem com as opções suportadas\n",
    "    \n",
    "    pass"
   ]
  },
  {
   "cell_type": "markdown",
   "metadata": {},
   "source": [
    "# Função de introdução"
   ]
  },
  {
   "cell_type": "code",
   "execution_count": null,
   "metadata": {
    "collapsed": true
   },
   "outputs": [],
   "source": [
    "def intro():\n",
    "    '''Função para exibir mensagem de boas vindas'''\n",
    "    pass"
   ]
  },
  {
   "cell_type": "markdown",
   "metadata": {},
   "source": [
    "# Início do jogo"
   ]
  },
  {
   "cell_type": "code",
   "execution_count": null,
   "metadata": {
    "collapsed": true
   },
   "outputs": [],
   "source": [
    "'''É necessário rodar todas as células'''\n",
    "\n",
    "# Mostre a mensagem de boas vindas\n",
    "\n",
    "# Inicie o jogo\n"
   ]
  }
 ],
 "metadata": {
  "kernelspec": {
   "display_name": "Python 3",
   "language": "python",
   "name": "python3"
  },
  "language_info": {
   "codemirror_mode": {
    "name": "ipython",
    "version": 3
   },
   "file_extension": ".py",
   "mimetype": "text/x-python",
   "name": "python",
   "nbconvert_exporter": "python",
   "pygments_lexer": "ipython3",
   "version": "3.6.2"
  }
 },
 "nbformat": 4,
 "nbformat_minor": 1
}
