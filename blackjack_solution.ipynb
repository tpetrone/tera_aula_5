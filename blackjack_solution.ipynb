{
 "cells": [
  {
   "cell_type": "markdown",
   "metadata": {
    "collapsed": true
   },
   "source": [
    "# Recursos adicionais:"
   ]
  },
  {
   "cell_type": "markdown",
   "metadata": {},
   "source": [
    "### `global` keyword"
   ]
  },
  {
   "cell_type": "code",
   "execution_count": null,
   "metadata": {},
   "outputs": [],
   "source": [
    "def func1():\n",
    "    global x\n",
    "    x = 2\n",
    "\n",
    "def func2():\n",
    "    print(x)\n",
    "\n",
    "\n",
    "func1()\n",
    "func2()\n",
    "print(x)"
   ]
  },
  {
   "cell_type": "markdown",
   "metadata": {},
   "source": [
    "### .pop()"
   ]
  },
  {
   "cell_type": "code",
   "execution_count": null,
   "metadata": {},
   "outputs": [],
   "source": [
    "l = [1,2,3,4,5]\n",
    "print(l.pop())\n",
    "print(l)"
   ]
  },
  {
   "cell_type": "markdown",
   "metadata": {},
   "source": [
    "## input()"
   ]
  },
  {
   "cell_type": "code",
   "execution_count": null,
   "metadata": {
    "collapsed": true
   },
   "outputs": [],
   "source": []
  },
  {
   "cell_type": "markdown",
   "metadata": {},
   "source": [
    "# ---------------------------------------------------------------------"
   ]
  },
  {
   "cell_type": "markdown",
   "metadata": {},
   "source": [
    "# BlackJack ou 21\n",
    "\n",
    "o Ás vale apenas 1\n",
    "\n",
    "Um jogador contra um dealer\n",
    "\n",
    "Classes: Deck, Hand, Card\n",
    "\n",
    "Uma única classe para a \"mão\" do jogador e do Dealer\n",
    "\n",
    "O dealer só mostra as cartas se o jogador decidir parar\n",
    "\n",
    "O dealer pára se sua mão for maior igual a 17"
   ]
  },
  {
   "cell_type": "markdown",
   "metadata": {},
   "source": [
    "# ---------------------------------------------------------------------"
   ]
  },
  {
   "cell_type": "markdown",
   "metadata": {},
   "source": [
    "## Definições globais e imports"
   ]
  },
  {
   "cell_type": "code",
   "execution_count": null,
   "metadata": {
    "collapsed": true
   },
   "outputs": [],
   "source": [
    "# Imports\n",
    "import random\n",
    "from IPython.display import clear_output\n",
    "\n",
    "# Variável para indicar status do jogo\n",
    "playing = False\n",
    "\n",
    "# Variável para indicar a quantidade de fichas iniciais\n",
    "chip_pool = 100\n",
    "\n",
    "# Variável para indicar o valor da aposta inicial\n",
    "bet = 1\n",
    "\n",
    "# Variável para apresentar o resultado do jogo\n",
    "result = \"\"\n",
    "\n",
    "# Variável com instruções para jogar ou sair\n",
    "restart_phrase = \"Pressione 'd' para jogar ou 'q' para sair\""
   ]
  },
  {
   "cell_type": "code",
   "execution_count": null,
   "metadata": {
    "collapsed": true
   },
   "outputs": [],
   "source": [
    "# Lista de naipes de um baralho\n",
    "suits = ('♥','♦','♣','♠')\n",
    "\n",
    "# Lista de números/figuras de um baralho\n",
    "ranking = ('A', '2', '3', '4', '5', '6', '7', '8', '9', '10', 'J', 'Q', 'K')\n",
    "\n",
    "# Dicionário com a correspondência entre números/figuras e seus valores \n",
    "card_val = {'A':1, '2':2, '3':3, '4':4, '5':5, '6':6, '7':7, '8':8, '9':9, '10':10, 'J':10, 'Q':10, 'K':10}"
   ]
  },
  {
   "cell_type": "markdown",
   "metadata": {},
   "source": [
    "# ---------------------------------------------------------------------"
   ]
  },
  {
   "cell_type": "markdown",
   "metadata": {},
   "source": [
    "# Classes"
   ]
  },
  {
   "cell_type": "markdown",
   "metadata": {},
   "source": [
    "## Classe `Card`"
   ]
  },
  {
   "cell_type": "code",
   "execution_count": null,
   "metadata": {
    "collapsed": true
   },
   "outputs": [],
   "source": [
    "class Card:\n",
    "    \n",
    "    # Construtor com 2 atributos (suite e rank)\n",
    "    def __init__(self,suit,rank):\n",
    "        self.suit = suit\n",
    "        self.rank = rank\n",
    "    \n",
    "    # Definir como a carta será exibida\n",
    "    def __str__(self):\n",
    "        return  self.rank + self.suit"
   ]
  },
  {
   "cell_type": "markdown",
   "metadata": {},
   "source": [
    "## Classe `Deck`"
   ]
  },
  {
   "cell_type": "code",
   "execution_count": null,
   "metadata": {
    "collapsed": true
   },
   "outputs": [],
   "source": [
    "class Deck:\n",
    "    \n",
    "    '''\n",
    "    Construtor com dois for loops aninhados para criar uma lista de \n",
    "    instâncias da classe Card que representem um baralho completo e guardá-lo no atributo deck\n",
    "    dica: append()\n",
    "    '''\n",
    "    def __init__(self):\n",
    "        self.deck = []\n",
    "        for suit in suits:\n",
    "            for rank in ranking:\n",
    "                self.deck.append(Card(suit,rank))\n",
    "    \n",
    "    '''\n",
    "    método para embaralhar o deck\n",
    "    dica: random.shuffle()\n",
    "    '''\n",
    "    def shuffle(self):\n",
    "        ''' Shuffle the deck, python actually already has a shuffle method in its random lib '''\n",
    "        random.shuffle(self.deck)\n",
    "    \n",
    "    '''\n",
    "    método para retirar uma carta do baralho\n",
    "    dica: use .pop()\n",
    "    '''\n",
    "    def deal(self):\n",
    "        ''' Grab the first item in the deck '''\n",
    "        single_card = self.deck.pop()\n",
    "        return single_card\n",
    "    \n",
    "    # método para definir como o baralho será exibido\n",
    "    def __str__(self):\n",
    "        deck_comp = \"\"\n",
    "        for card in self.deck:\n",
    "            deck_comp += \" \" + card.__str__()\n",
    "\n",
    "        return \"The deck has\" + deck_comp\n",
    "    \n",
    "# deck = Deck()\n",
    "# print(deck)\n",
    "# print(100*\"=\")\n",
    "# print(deck.deal())\n",
    "# print(100*\"=\")\n",
    "# print(deck)\n",
    "# print(100*\"=\")\n",
    "# deck.shuffle()\n",
    "# print(deck)\n"
   ]
  },
  {
   "cell_type": "markdown",
   "metadata": {},
   "source": [
    "## Classe `Hand`"
   ]
  },
  {
   "cell_type": "code",
   "execution_count": null,
   "metadata": {
    "collapsed": true
   },
   "outputs": [],
   "source": [
    "class Hand:\n",
    "    \n",
    "    '''\n",
    "    Construtor com 2 atributos: \n",
    "    uma list com as cartas e a somatória do valor delas \n",
    "    inicialmente zerados\n",
    "    '''\n",
    "    def __init__(self):\n",
    "        self.cards = []\n",
    "        self.value = 0\n",
    "        \n",
    "    # método para adicionar uma carta à \"mão\"\n",
    "    def card_add(self,card):\n",
    "        self.cards.append(card)\n",
    "        self.value += card_val[card.rank]\n",
    "\n",
    "    def draw(self,hidden):\n",
    "        '''\n",
    "        método para mostrar a \"mão\" tanto do jogador quanto do dealer\n",
    "        dica: use um parâmetro booleano para indicar de quem é a \"mão\"\n",
    "        lembre-se que a primeira carta do dealer deve ficar escondida\n",
    "        '''\n",
    "        result = \"\"\n",
    "        if hidden == True and playing == True:\n",
    "            #Don't show first hidden card\n",
    "            starting_card = 1\n",
    "        else:\n",
    "            starting_card = 0\n",
    "        for x in range(starting_card,len(self.cards)):\n",
    "            result += \" \" + str(self.cards[x]) \n",
    "        print(result)\n",
    "\n",
    "            \n",
    "# hand = Hand()\n",
    "# hand.card_add(deck.deal())\n",
    "# print(hand)\n",
    "# hand.card_add(deck.deal())\n",
    "# print(hand)\n",
    "            "
   ]
  },
  {
   "cell_type": "markdown",
   "metadata": {},
   "source": [
    "# ---------------------------------------------------------------------"
   ]
  },
  {
   "cell_type": "markdown",
   "metadata": {},
   "source": [
    "# Funções"
   ]
  },
  {
   "cell_type": "markdown",
   "metadata": {},
   "source": [
    "## fazer_aposta()"
   ]
  },
  {
   "cell_type": "code",
   "execution_count": null,
   "metadata": {
    "collapsed": true
   },
   "outputs": [],
   "source": [
    "# First Bet\n",
    "def fazer_aposta():\n",
    "    ''' Função para definir a aposta \n",
    "    dica: use global\n",
    "    '''\n",
    "    \n",
    "    global bet\n",
    "    bet = 0\n",
    "    \n",
    "    print('Quanto você quer apostar? (número inteiro)')\n",
    "    \n",
    "    # While loop até uma aposta válida\n",
    "    while bet == 0:\n",
    "        bet_comp = input()\n",
    "        bet_comp = int(bet_comp)\n",
    "        # if para checar se o jogador possui fichas suficientes\n",
    "        if (bet_comp >= 1 and bet_comp <= chip_pool):\n",
    "            bet = bet_comp\n",
    "        else:\n",
    "            print(\"Aposta invalida! Você possui \" + str(chip_pool) + \" fichas restantes\")\n",
    "            \n",
    "# fazer_aposta()\n",
    "\n",
    "        "
   ]
  },
  {
   "cell_type": "markdown",
   "metadata": {},
   "source": [
    "Next, make a function setting up the game and for dealing out the cards."
   ]
  },
  {
   "cell_type": "code",
   "execution_count": null,
   "metadata": {
    "collapsed": true
   },
   "outputs": [],
   "source": [
    "def iniciar_jogo():\n",
    "    ''' This function deals out cards and sets up round '''\n",
    "    \n",
    "    # Set up all global variables\n",
    "    global result,playing,deck,player_hand,dealer_hand,chip_pool,bet\n",
    "    \n",
    "    # Create a deck\n",
    "    deck = Deck()\n",
    "    \n",
    "    #Shuffle it\n",
    "    deck.shuffle()\n",
    "    \n",
    "    #Set up bet\n",
    "    fazer_aposta()\n",
    "    \n",
    "    # Set up both player and dealer hands\n",
    "    player_hand = Hand()\n",
    "    dealer_hand = Hand()\n",
    "    \n",
    "    # Deal out initial cards\n",
    "    player_hand.card_add(deck.deal())\n",
    "    player_hand.card_add(deck.deal())\n",
    "    \n",
    "    dealer_hand.card_add(deck.deal())\n",
    "    dealer_hand.card_add(deck.deal())\n",
    "    \n",
    "    result = \"Parar ou continuar? Pressione h ou s: \"\n",
    "    \n",
    "    # Set up to know currently playing hand\n",
    "    playing = True \n",
    "    loop_principal()"
   ]
  },
  {
   "cell_type": "markdown",
   "metadata": {},
   "source": [
    "## Função para pedir uma carta"
   ]
  },
  {
   "cell_type": "code",
   "execution_count": null,
   "metadata": {
    "collapsed": true
   },
   "outputs": [],
   "source": [
    "def pedir_carta():\n",
    "    \n",
    "    global playing,chip_pool,deck,player_hand,result,bet\n",
    "    \n",
    "    # Se o status do jogo estiver ativo, abra uma carta\n",
    "    if playing:\n",
    "        if player_hand.value <= 21:\n",
    "            player_hand.card_add(deck.deal())\n",
    "        \n",
    "        if player_hand.value > 21:\n",
    "            result = 'O jogador estourou!\\n'+ restart_phrase\n",
    "            \n",
    "            chip_pool -= bet\n",
    "            playing = False\n",
    "    \n",
    "    else:\n",
    "        result = \"Game Over!\\n\" + restart_phrase\n",
    "    \n",
    "    loop_principal()"
   ]
  },
  {
   "cell_type": "markdown",
   "metadata": {},
   "source": [
    "## Função para parar"
   ]
  },
  {
   "cell_type": "code",
   "execution_count": null,
   "metadata": {
    "collapsed": true
   },
   "outputs": [],
   "source": [
    "def parar():\n",
    "    global playing,chip_pool,deck,player_hand,dealer_hand,result,bet\n",
    "    ''' This function will now play the dealers hand, since stand was chosen '''\n",
    "        \n",
    "    # Soft 17 rule\n",
    "    while dealer_hand.value < 17:\n",
    "        dealer_hand.card_add(deck.deal())\n",
    "\n",
    "    # Dealer estoura    \n",
    "    if dealer_hand.value > 21:\n",
    "        result = 'Dealer estourou! Você ganhou!\\n' + restart_phrase\n",
    "        chip_pool += bet\n",
    "        \n",
    "    #Player ganha\n",
    "    elif dealer_hand.value < player_hand.value:\n",
    "        result = 'Pontuação maior que a do dealer, você ganhou!\\n' + restart_phrase\n",
    "        chip_pool += bet\n",
    "\n",
    "    # Empate\n",
    "    elif dealer_hand.value == player_hand.value:\n",
    "        result = 'Empate!\\n' + restart_phrase\n",
    "\n",
    "    # Dealer ganha\n",
    "    else:\n",
    "        result = 'O Dealer ganhou!\\n' + restart_phrase\n",
    "        chip_pool -= bet\n",
    "        \n",
    "    playing = False        \n",
    "    loop_principal()"
   ]
  },
  {
   "cell_type": "markdown",
   "metadata": {},
   "source": [
    "Function to print results and ask user for next step"
   ]
  },
  {
   "cell_type": "code",
   "execution_count": null,
   "metadata": {
    "collapsed": true
   },
   "outputs": [],
   "source": [
    "def loop_principal():\n",
    "    \n",
    "    #Mostrar a mão do jogador\n",
    "    print(10*\"=\")\n",
    "    print('A mão do jogador é: '),\n",
    "    player_hand.draw(False)\n",
    "    print('Total: '+ str(player_hand.value))\n",
    "    \n",
    "    #Mostrar a mão do dealer\n",
    "    print(10*\"=\")\n",
    "    print('A mão do dealer é: '),\n",
    "    dealer_hand.draw(True)\n",
    "    \n",
    "    # Se o jogo houver terminado\n",
    "    if playing == False:\n",
    "        print(10*\"=\")\n",
    "        print(\"Total: \" + str(dealer_hand.value ))\n",
    "        print(\"Total de fichas: \" + str(chip_pool))\n",
    "    # Se não...\n",
    "    else: \n",
    "        print(\"Com uma outra carta escondida\")\n",
    "        \n",
    "    # Apresenta o resultado.\n",
    "    print(10*\"=\")\n",
    "    print(result)\n",
    "    \n",
    "    ler_acao()\n",
    "    "
   ]
  },
  {
   "cell_type": "markdown",
   "metadata": {},
   "source": [
    "## Função para sair do jogo"
   ]
  },
  {
   "cell_type": "code",
   "execution_count": null,
   "metadata": {
    "collapsed": true
   },
   "outputs": [],
   "source": [
    "def game_exit():\n",
    "    print('Jogo encerrado!')\n",
    "    exit()"
   ]
  },
  {
   "cell_type": "markdown",
   "metadata": {},
   "source": [
    "## Função para ler o ação"
   ]
  },
  {
   "cell_type": "code",
   "execution_count": null,
   "metadata": {
    "collapsed": true,
    "scrolled": true
   },
   "outputs": [],
   "source": [
    "def ler_acao():\n",
    "    ''' Read user input, lower case it just to be safe'''\n",
    "    acao = input().lower()\n",
    "    \n",
    "    \n",
    "    if acao == 'h':\n",
    "        pedir_carta()\n",
    "    elif acao == 's':\n",
    "        parar()\n",
    "    elif acao == 'd':\n",
    "        clear_output()\n",
    "        iniciar_jogo()\n",
    "    elif acao == 'q':\n",
    "        game_exit()\n",
    "    else:\n",
    "        print(\"Inválido...Pressione h, s, d, ou q: \")\n",
    "        ler_acao()"
   ]
  },
  {
   "cell_type": "markdown",
   "metadata": {},
   "source": [
    "Make a quick intro for the game"
   ]
  },
  {
   "cell_type": "code",
   "execution_count": null,
   "metadata": {
    "collapsed": true
   },
   "outputs": [],
   "source": [
    "def intro():\n",
    "    statement = 'Bem vindo ao TERA21!\\nChegue o mais perto de 21 que conseguir sem estourar!\\n'\n",
    "    print(statement)"
   ]
  },
  {
   "cell_type": "markdown",
   "metadata": {},
   "source": [
    "Now to play the game!"
   ]
  },
  {
   "cell_type": "markdown",
   "metadata": {},
   "source": [
    "# Início do jogo"
   ]
  },
  {
   "cell_type": "code",
   "execution_count": null,
   "metadata": {},
   "outputs": [],
   "source": [
    "'''The following code will initiate the game! (Note: Need to Run all Cells)'''\n",
    "\n",
    "#Print the intro\n",
    "intro()\n",
    "\n",
    "# Deal out the cards and start the game!\n",
    "iniciar_jogo()"
   ]
  }
 ],
 "metadata": {
  "kernelspec": {
   "display_name": "Python 3",
   "language": "python",
   "name": "python3"
  },
  "language_info": {
   "codemirror_mode": {
    "name": "ipython",
    "version": 3
   },
   "file_extension": ".py",
   "mimetype": "text/x-python",
   "name": "python",
   "nbconvert_exporter": "python",
   "pygments_lexer": "ipython3",
   "version": "3.6.2"
  }
 },
 "nbformat": 4,
 "nbformat_minor": 1
}
